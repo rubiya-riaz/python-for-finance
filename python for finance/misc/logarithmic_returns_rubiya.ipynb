{
 "cells": [
  {
   "cell_type": "code",
   "execution_count": 8,
   "metadata": {},
   "outputs": [],
   "source": [
    "from pandas_datareader import data as wb"
   ]
  },
  {
   "cell_type": "code",
   "execution_count": 9,
   "metadata": {},
   "outputs": [],
   "source": [
    "MSFT = wb.DataReader('MSFT', data_source = 'yahoo', start = '2010-1-1')"
   ]
  },
  {
   "cell_type": "code",
   "execution_count": 10,
   "metadata": {},
   "outputs": [
    {
     "data": {
      "text/html": [
       "<div>\n",
       "<style scoped>\n",
       "    .dataframe tbody tr th:only-of-type {\n",
       "        vertical-align: middle;\n",
       "    }\n",
       "\n",
       "    .dataframe tbody tr th {\n",
       "        vertical-align: top;\n",
       "    }\n",
       "\n",
       "    .dataframe thead th {\n",
       "        text-align: right;\n",
       "    }\n",
       "</style>\n",
       "<table border=\"1\" class=\"dataframe\">\n",
       "  <thead>\n",
       "    <tr style=\"text-align: right;\">\n",
       "      <th></th>\n",
       "      <th>High</th>\n",
       "      <th>Low</th>\n",
       "      <th>Open</th>\n",
       "      <th>Close</th>\n",
       "      <th>Volume</th>\n",
       "      <th>Adj Close</th>\n",
       "    </tr>\n",
       "    <tr>\n",
       "      <th>Date</th>\n",
       "      <th></th>\n",
       "      <th></th>\n",
       "      <th></th>\n",
       "      <th></th>\n",
       "      <th></th>\n",
       "      <th></th>\n",
       "    </tr>\n",
       "  </thead>\n",
       "  <tbody>\n",
       "    <tr>\n",
       "      <th>2009-12-31</th>\n",
       "      <td>30.990000</td>\n",
       "      <td>30.480000</td>\n",
       "      <td>30.980000</td>\n",
       "      <td>30.480000</td>\n",
       "      <td>31929700.0</td>\n",
       "      <td>23.925440</td>\n",
       "    </tr>\n",
       "    <tr>\n",
       "      <th>2010-01-04</th>\n",
       "      <td>31.100000</td>\n",
       "      <td>30.590000</td>\n",
       "      <td>30.620001</td>\n",
       "      <td>30.950001</td>\n",
       "      <td>38409100.0</td>\n",
       "      <td>24.294369</td>\n",
       "    </tr>\n",
       "    <tr>\n",
       "      <th>2010-01-05</th>\n",
       "      <td>31.100000</td>\n",
       "      <td>30.639999</td>\n",
       "      <td>30.850000</td>\n",
       "      <td>30.959999</td>\n",
       "      <td>49749600.0</td>\n",
       "      <td>24.302216</td>\n",
       "    </tr>\n",
       "    <tr>\n",
       "      <th>2010-01-06</th>\n",
       "      <td>31.080000</td>\n",
       "      <td>30.520000</td>\n",
       "      <td>30.879999</td>\n",
       "      <td>30.770000</td>\n",
       "      <td>58182400.0</td>\n",
       "      <td>24.153070</td>\n",
       "    </tr>\n",
       "    <tr>\n",
       "      <th>2010-01-07</th>\n",
       "      <td>30.700001</td>\n",
       "      <td>30.190001</td>\n",
       "      <td>30.629999</td>\n",
       "      <td>30.450001</td>\n",
       "      <td>50559700.0</td>\n",
       "      <td>23.901886</td>\n",
       "    </tr>\n",
       "  </tbody>\n",
       "</table>\n",
       "</div>"
      ],
      "text/plain": [
       "                 High        Low       Open      Close      Volume  Adj Close\n",
       "Date                                                                         \n",
       "2009-12-31  30.990000  30.480000  30.980000  30.480000  31929700.0  23.925440\n",
       "2010-01-04  31.100000  30.590000  30.620001  30.950001  38409100.0  24.294369\n",
       "2010-01-05  31.100000  30.639999  30.850000  30.959999  49749600.0  24.302216\n",
       "2010-01-06  31.080000  30.520000  30.879999  30.770000  58182400.0  24.153070\n",
       "2010-01-07  30.700001  30.190001  30.629999  30.450001  50559700.0  23.901886"
      ]
     },
     "execution_count": 10,
     "metadata": {},
     "output_type": "execute_result"
    }
   ],
   "source": [
    "MSFT.head()"
   ]
  },
  {
   "cell_type": "code",
   "execution_count": 12,
   "metadata": {},
   "outputs": [],
   "source": [
    "close  = MSFT['Close']"
   ]
  },
  {
   "cell_type": "code",
   "execution_count": 20,
   "metadata": {},
   "outputs": [
    {
     "data": {
      "text/plain": [
       "Date\n",
       "2009-12-31     30.480000\n",
       "2010-01-04     30.950001\n",
       "2010-01-05     30.959999\n",
       "2010-01-06     30.770000\n",
       "2010-01-07     30.450001\n",
       "2010-01-08     30.660000\n",
       "2010-01-11     30.270000\n",
       "2010-01-12     30.070000\n",
       "2010-01-13     30.350000\n",
       "2010-01-14     30.959999\n",
       "2010-01-15     30.860001\n",
       "2010-01-19     31.100000\n",
       "2010-01-20     30.590000\n",
       "2010-01-21     30.010000\n",
       "2010-01-22     28.959999\n",
       "2010-01-25     29.320000\n",
       "2010-01-26     29.500000\n",
       "2010-01-27     29.670000\n",
       "2010-01-28     29.160000\n",
       "2010-01-29     28.180000\n",
       "2010-02-01     28.410000\n",
       "2010-02-02     28.459999\n",
       "2010-02-03     28.629999\n",
       "2010-02-04     27.840000\n",
       "2010-02-05     28.020000\n",
       "2010-02-08     27.719999\n",
       "2010-02-09     28.010000\n",
       "2010-02-10     27.990000\n",
       "2010-02-11     28.120001\n",
       "2010-02-12     27.930000\n",
       "                 ...    \n",
       "2020-04-03    153.830002\n",
       "2020-04-06    165.270004\n",
       "2020-04-07    163.490005\n",
       "2020-04-08    165.130005\n",
       "2020-04-09    165.139999\n",
       "2020-04-13    165.509995\n",
       "2020-04-14    173.699997\n",
       "2020-04-15    171.880005\n",
       "2020-04-16    177.039993\n",
       "2020-04-17    178.600006\n",
       "2020-04-20    175.059998\n",
       "2020-04-21    167.820007\n",
       "2020-04-22    173.520004\n",
       "2020-04-23    171.419998\n",
       "2020-04-24    174.550003\n",
       "2020-04-27    174.050003\n",
       "2020-04-28    169.809998\n",
       "2020-04-29    177.429993\n",
       "2020-04-30    179.210007\n",
       "2020-05-01    174.570007\n",
       "2020-05-04    178.839996\n",
       "2020-05-05    180.759995\n",
       "2020-05-06    182.539993\n",
       "2020-05-07    183.600006\n",
       "2020-05-08    184.679993\n",
       "2020-05-11    186.740005\n",
       "2020-05-12    182.509995\n",
       "2020-05-13    179.750000\n",
       "2020-05-14    180.529999\n",
       "2020-05-15    183.160004\n",
       "Name: Close, Length: 2611, dtype: float64"
      ]
     },
     "execution_count": 20,
     "metadata": {},
     "output_type": "execute_result"
    }
   ],
   "source": [
    "close"
   ]
  },
  {
   "cell_type": "code",
   "execution_count": 21,
   "metadata": {},
   "outputs": [],
   "source": [
    "import pandas as pd\n",
    "import numpy as np"
   ]
  },
  {
   "cell_type": "code",
   "execution_count": 22,
   "metadata": {},
   "outputs": [],
   "source": [
    "logarithmic_returns = np.log(close / close.shift(1))"
   ]
  },
  {
   "cell_type": "code",
   "execution_count": 23,
   "metadata": {},
   "outputs": [],
   "source": [
    "log_returns_a = close.mean()* 250"
   ]
  },
  {
   "cell_type": "code",
   "execution_count": 24,
   "metadata": {},
   "outputs": [
    {
     "data": {
      "text/plain": [
       "15078.552288463043"
      ]
     },
     "execution_count": 24,
     "metadata": {},
     "output_type": "execute_result"
    }
   ],
   "source": [
    "log_returns_a"
   ]
  },
  {
   "cell_type": "code",
   "execution_count": 27,
   "metadata": {},
   "outputs": [
    {
     "name": "stdout",
     "output_type": "stream",
     "text": [
      "1507855.229%\n"
     ]
    }
   ],
   "source": [
    "print (str(round(log_returns_a, 5)*100) + '%')"
   ]
  },
  {
   "cell_type": "code",
   "execution_count": 29,
   "metadata": {},
   "outputs": [],
   "source": [
    "from pandas_datareader import data as wb"
   ]
  },
  {
   "cell_type": "code",
   "execution_count": 30,
   "metadata": {},
   "outputs": [],
   "source": [
    "import matplotlib.pyplot as plt"
   ]
  },
  {
   "cell_type": "code",
   "execution_count": null,
   "metadata": {},
   "outputs": [],
   "source": [
    "tickers = ['PG', 'MSFT]"
   ]
  }
 ],
 "metadata": {
  "kernelspec": {
   "display_name": "Python 3.7.2 32-bit",
   "language": "python",
   "name": "python37232bit6ed36a65d3434a11802d64fc314a2148"
  },
  "language_info": {
   "codemirror_mode": {
    "name": "ipython",
    "version": 3
   },
   "file_extension": ".py",
   "mimetype": "text/x-python",
   "name": "python",
   "nbconvert_exporter": "python",
   "pygments_lexer": "ipython3",
   "version": "3.7.2"
  }
 },
 "nbformat": 4,
 "nbformat_minor": 2
}
